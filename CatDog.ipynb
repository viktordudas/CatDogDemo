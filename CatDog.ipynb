{
 "cells": [
  {
   "cell_type": "markdown",
   "metadata": {},
   "source": [
    "# Cat - Dog classification\n",
    "## 1. Load an image \n",
    "0CirmiuszRex 1 2 3"
   ]
  },
  {
   "cell_type": "code",
   "execution_count": null,
   "metadata": {},
   "outputs": [],
   "source": [
    "from PIL import Image\n",
    "image = Image.open(\"./Test/0CirmiuszRex.jpg\")\n",
    "from IPython.display import display\n",
    "display(image)"
   ]
  },
  {
   "cell_type": "markdown",
   "metadata": {},
   "source": [
    "## 2. Add the trained model"
   ]
  },
  {
   "cell_type": "code",
   "execution_count": null,
   "metadata": {},
   "outputs": [],
   "source": [
    "import tensorflow.compat.v1 as tf\n",
    "import os\n",
    "import numpy as np\n",
    "gd = tf.GraphDef()\n",
    "gd.ParseFromString(open('model.pb', 'rb').read())\n",
    "tf.import_graph_def(gd, name='')\n",
    "# resize, rgb->bgr\n",
    "image = image.resize((227,227))\n",
    "r,g,b = np.array(image).T\n",
    "image = np.array([b,g,r]).transpose()\n",
    "print(image.shape)"
   ]
  },
  {
   "cell_type": "markdown",
   "metadata": {},
   "source": [
    "## 3. Do the prediction"
   ]
  },
  {
   "cell_type": "code",
   "execution_count": null,
   "metadata": {},
   "outputs": [],
   "source": [
    "sess = tf.Session()\n",
    "prob_tensor = sess.graph.get_tensor_by_name('loss:0')\n",
    "predictions = sess.run(prob_tensor, {'Placeholder:0': [image] })\n",
    "highest_probability_index = np.argmax(predictions)\n",
    "from IPython.display import Markdown\n",
    "ck = ['Cat', 'Dog'][highest_probability_index]\n",
    "#print(ck)\n",
    "display(Markdown('# ' + ck + ''))"
   ]
  },
  {
   "cell_type": "code",
   "execution_count": null,
   "metadata": {},
   "outputs": [],
   "source": []
  }
 ],
 "metadata": {
  "kernelspec": {
   "display_name": "Python 3",
   "language": "python",
   "name": "python3"
  },
  "language_info": {
   "codemirror_mode": {
    "name": "ipython",
    "version": 3
   },
   "file_extension": ".py",
   "mimetype": "text/x-python",
   "name": "python",
   "nbconvert_exporter": "python",
   "pygments_lexer": "ipython3",
   "version": "3.8.6"
  }
 },
 "nbformat": 4,
 "nbformat_minor": 4
}
